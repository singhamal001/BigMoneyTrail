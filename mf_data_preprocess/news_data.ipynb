{
 "cells": [
  {
   "cell_type": "markdown",
   "metadata": {},
   "source": [
    "## Google News"
   ]
  },
  {
   "cell_type": "code",
   "execution_count": 30,
   "metadata": {},
   "outputs": [
    {
     "name": "stdout",
     "output_type": "stream",
     "text": [
      "Collecting gnews\n",
      "  Downloading gnews-0.3.6-py3-none-any.whl (16 kB)\n",
      "Collecting dnspython~=1.16.0\n",
      "  Downloading dnspython-1.16.0-py2.py3-none-any.whl (188 kB)\n",
      "Collecting requests==2.26.0\n",
      "  Downloading requests-2.26.0-py2.py3-none-any.whl (62 kB)\n",
      "Collecting feedparser~=6.0.2\n",
      "  Downloading feedparser-6.0.11-py3-none-any.whl (81 kB)\n",
      "Collecting bs4~=0.0.1\n",
      "  Downloading bs4-0.0.2-py2.py3-none-any.whl (1.2 kB)\n",
      "Collecting python-dotenv~=0.19.0\n",
      "  Downloading python_dotenv-0.19.2-py2.py3-none-any.whl (17 kB)\n",
      "Collecting pymongo~=3.12.0\n",
      "  Downloading pymongo-3.12.3-cp39-cp39-win_amd64.whl (398 kB)\n",
      "Collecting beautifulsoup4~=4.9.3\n",
      "  Downloading beautifulsoup4-4.9.3-py3-none-any.whl (115 kB)\n",
      "Requirement already satisfied: charset-normalizer~=2.0.0 in c:\\programdata\\anaconda3\\lib\\site-packages (from requests==2.26.0->gnews) (2.0.4)\n",
      "Requirement already satisfied: urllib3<1.27,>=1.21.1 in c:\\programdata\\anaconda3\\lib\\site-packages (from requests==2.26.0->gnews) (1.26.7)\n",
      "Requirement already satisfied: idna<4,>=2.5 in c:\\programdata\\anaconda3\\lib\\site-packages (from requests==2.26.0->gnews) (3.2)\n",
      "Requirement already satisfied: certifi>=2017.4.17 in c:\\programdata\\anaconda3\\lib\\site-packages (from requests==2.26.0->gnews) (2021.10.8)\n",
      "Requirement already satisfied: soupsieve>1.2 in c:\\programdata\\anaconda3\\lib\\site-packages (from beautifulsoup4~=4.9.3->gnews) (2.2.1)\n",
      "Collecting sgmllib3k\n",
      "  Downloading sgmllib3k-1.0.0.tar.gz (5.8 kB)\n",
      "Building wheels for collected packages: sgmllib3k\n",
      "  Building wheel for sgmllib3k (setup.py): started\n",
      "  Building wheel for sgmllib3k (setup.py): finished with status 'done'\n",
      "  Created wheel for sgmllib3k: filename=sgmllib3k-1.0.0-py3-none-any.whl size=6065 sha256=036580d59253d787ec394434bcb2103e112ffeef3f688ad882f80f1b48ec0799\n",
      "  Stored in directory: c:\\users\\singh\\appdata\\local\\pip\\cache\\wheels\\65\\7a\\a7\\78c287f64e401255dff4c13fdbc672fed5efbfd21c530114e1\n",
      "Successfully built sgmllib3k\n",
      "Installing collected packages: sgmllib3k, beautifulsoup4, requests, python-dotenv, pymongo, feedparser, dnspython, bs4, gnews\n",
      "  Attempting uninstall: beautifulsoup4\n",
      "    Found existing installation: beautifulsoup4 4.12.3\n",
      "    Uninstalling beautifulsoup4-4.12.3:\n",
      "      Successfully uninstalled beautifulsoup4-4.12.3\n",
      "  Attempting uninstall: requests\n",
      "    Found existing installation: requests 2.31.0\n",
      "    Uninstalling requests-2.31.0:\n",
      "      Successfully uninstalled requests-2.31.0\n",
      "Successfully installed beautifulsoup4-4.9.3 bs4-0.0.2 dnspython-1.16.0 feedparser-6.0.11 gnews-0.3.6 pymongo-3.12.3 python-dotenv-0.19.2 requests-2.26.0 sgmllib3k-1.0.0\n"
     ]
    },
    {
     "name": "stderr",
     "output_type": "stream",
     "text": [
      "ERROR: pip's dependency resolver does not currently take into account all the packages that are installed. This behaviour is the source of the following dependency conflicts.\n",
      "conda-repo-cli 1.0.4 requires pathlib, which is not installed.\n",
      "anaconda-project 0.10.1 requires ruamel-yaml, which is not installed.\n",
      "yfinance 0.2.36 requires beautifulsoup4>=4.11.1, but you have beautifulsoup4 4.9.3 which is incompatible.\n",
      "yfinance 0.2.36 requires requests>=2.31, but you have requests 2.26.0 which is incompatible.\n"
     ]
    }
   ],
   "source": [
    "!pip install gnews"
   ]
  },
  {
   "cell_type": "code",
   "execution_count": 31,
   "metadata": {},
   "outputs": [
    {
     "name": "stdout",
     "output_type": "stream",
     "text": [
      "{'title': 'JPMorgan Chase, BlackRock drop out of massive UN climate alliance in stunning move - Fox Business', 'description': 'JPMorgan Chase, BlackRock drop out of massive UN climate alliance in stunning move  Fox Business', 'published date': 'Thu, 15 Feb 2024 17:11:00 GMT', 'url': 'https://news.google.com/rss/articles/CBMibWh0dHBzOi8vd3d3LmZveGJ1c2luZXNzLmNvbS9wb2xpdGljcy9qcG1vcmdhbi1jaGFzZS1kcm9wcy1vdXQtb2YtbWFzc2l2ZS11bi1jbGltYXRlLWFsbGlhbmNlLWluLXN0dW5uaW5nLW1vdmXSAXFodHRwczovL3d3dy5mb3hidXNpbmVzcy5jb20vcG9saXRpY3MvanBtb3JnYW4tY2hhc2UtZHJvcHMtb3V0LW9mLW1hc3NpdmUtdW4tY2xpbWF0ZS1hbGxpYW5jZS1pbi1zdHVubmluZy1tb3ZlLmFtcA?oc=5&hl=en-IN&gl=IN&ceid=IN:en', 'publisher': {'href': 'https://www.foxbusiness.com', 'title': 'Fox Business'}}\n"
     ]
    }
   ],
   "source": [
    "from gnews import GNews\n",
    "\n",
    "google_news = GNews()\n",
    "pakistan_news = google_news.get_news('blackrock')\n",
    "print(pakistan_news[0])"
   ]
  },
  {
   "cell_type": "code",
   "execution_count": 33,
   "metadata": {},
   "outputs": [
    {
     "data": {
      "text/plain": [
       "97"
      ]
     },
     "execution_count": 33,
     "metadata": {},
     "output_type": "execute_result"
    }
   ],
   "source": [
    "len(pakistan_news)"
   ]
  },
  {
   "cell_type": "code",
   "execution_count": null,
   "metadata": {},
   "outputs": [],
   "source": []
  }
 ],
 "metadata": {
  "kernelspec": {
   "display_name": "base",
   "language": "python",
   "name": "python3"
  },
  "language_info": {
   "codemirror_mode": {
    "name": "ipython",
    "version": 3
   },
   "file_extension": ".py",
   "mimetype": "text/x-python",
   "name": "python",
   "nbconvert_exporter": "python",
   "pygments_lexer": "ipython3",
   "version": "3.9.7"
  }
 },
 "nbformat": 4,
 "nbformat_minor": 2
}
